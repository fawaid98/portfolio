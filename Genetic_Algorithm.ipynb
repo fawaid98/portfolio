{
  "nbformat": 4,
  "nbformat_minor": 0,
  "metadata": {
    "colab": {
      "provenance": [],
      "collapsed_sections": [],
      "authorship_tag": "ABX9TyOQgKLk7e88TKqG5etuKtCg",
      "include_colab_link": true
    },
    "kernelspec": {
      "name": "python3",
      "display_name": "Python 3"
    },
    "language_info": {
      "name": "python"
    }
  },
  "cells": [
    {
      "cell_type": "markdown",
      "metadata": {
        "id": "view-in-github",
        "colab_type": "text"
      },
      "source": [
        "<a href=\"https://colab.research.google.com/github/fawaid98/portfolio/blob/main/Genetic_Algorithm.ipynb\" target=\"_parent\"><img src=\"https://colab.research.google.com/assets/colab-badge.svg\" alt=\"Open In Colab\"/></a>"
      ]
    },
    {
      "cell_type": "code",
      "execution_count": 1,
      "metadata": {
        "id": "tQE3s36pxFRo"
      },
      "outputs": [],
      "source": [
        "from codecs import decode\n",
        "import struct\n",
        "import numpy as np\n",
        "import pandas as pd\n",
        "from sympy import symbols, diff, Matrix, lambdify\n",
        "from numpy.random import rand, randint\n",
        "import matplotlib.pyplot as plt\n",
        "from matplotlib import cm\n",
        "from mpl_toolkits.mplot3d import axes3d"
      ]
    },
    {
      "cell_type": "code",
      "source": [
        "x = symbols('x')\n",
        "y = symbols('y')\n",
        "fxy = x**2*y**2 + 1\n",
        "\n",
        "fxy"
      ],
      "metadata": {
        "colab": {
          "base_uri": "https://localhost:8080/",
          "height": 38
        },
        "id": "eK9zPVjrMg0F",
        "outputId": "23202d4f-493f-4634-d8c7-cb2be0735a00"
      },
      "execution_count": 2,
      "outputs": [
        {
          "output_type": "execute_result",
          "data": {
            "text/plain": [
              "x**2*y**2 + 1"
            ],
            "text/latex": "$\\displaystyle x^{2} y^{2} + 1$"
          },
          "metadata": {},
          "execution_count": 2
        }
      ]
    },
    {
      "cell_type": "code",
      "source": [
        "#KONVERSI\n",
        "def bin2float(b):\n",
        "  return struct.unpack('>f', int2bit(int(b, 2), 4))[0]\n",
        "\n",
        "def int2bit(n, length):\n",
        "  return decode('%%0%fx' % (length << 1) % n, 'hex')[-length:]\n",
        "\n",
        "def float2bin(value):\n",
        "  return ''.join('{:0>8b}'.format(c) for c in struct.pack('!f', value))\n",
        "\n",
        "def str2int(string):\n",
        "    li = []\n",
        "    li[:0] = string\n",
        "    lis = [int(i) for i in li]\n",
        "    return lis\n",
        "\n",
        "def list2str(s):\n",
        "  str1 = ''.join(map(str, s))\n",
        "  return str1"
      ],
      "metadata": {
        "id": "aVF0gvC_pdz-"
      },
      "execution_count": 3,
      "outputs": []
    },
    {
      "cell_type": "code",
      "source": [
        "bb = -3\n",
        "ba = 3\n",
        "m = 32\n",
        "#RANDOM INITIAL POINT\n",
        "print('RANDOM INITIAL POINT')\n",
        "initial_x = np.random.uniform(bb, ba, 5)\n",
        "initial_y = np.random.uniform(bb, ba, 5)\n",
        "xy = []\n",
        "for i in range(0, len(initial_x)):\n",
        "  x_y = [initial_x[i], initial_y[i]]\n",
        "  xy.append(x_y)\n",
        "print(f'Titik Awal: \\n{np.array(xy)}')\n",
        "\n",
        "#ENCODE\n",
        "print('\\nENCODE')\n",
        "print('Populasi Awal: ')\n",
        "pop = []\n",
        "for i in range(0,len(initial_x)):\n",
        "  pop_x = float2bin(initial_x[i])\n",
        "  pop_y = float2bin(initial_y[i])\n",
        "  popi = (pop_x[:]+pop_y[:])\n",
        "  pop.append(popi)\n",
        "  print(f'krom_{i+1} = {pop[i]}')\n",
        "\n",
        "f_xy = []\n",
        "opt_p = []\n",
        "x_i = []\n",
        "y_i = []\n",
        "for j in range(0, 10):\n",
        "  print('\\n--------------------------------------------------')\n",
        "  print(f'Iterasi ke-{j+1}')\n",
        "  print('--------------------------------------------------\\n')\n",
        "\n",
        "  #FITNESS\n",
        "  print('FITNESS')\n",
        "  obj = []\n",
        "  for i in range(0,len(pop)):\n",
        "    objektif = bin2float(pop[i][:m])**2*bin2float(pop[i][m:])**2 + 1\n",
        "    obj.append(objektif)\n",
        "\n",
        "  print(f'nilai objektif = {obj}')\n",
        "\n",
        "  fit = []\n",
        "  for i in range(0,len(obj)):\n",
        "    fitness = 1/obj[i]\n",
        "    fit.append(fitness)\n",
        "  total = np.sum(fit)\n",
        "  p_i = fit/total\n",
        "  print(f'probability = {p_i.tolist()}')\n",
        "\n",
        "  #SELEKSI\n",
        "  print('\\nSELEKSI')\n",
        "  #Parent 1\n",
        "  print('Seleksi Parent 1')\n",
        "  p_kum = []\n",
        "  for i in range(0, len(p_i)):\n",
        "    kum = sum(p_i[0:i+1])\n",
        "    p_kum.append(kum)\n",
        "  df = pd.DataFrame(data={'Kromosom':pop, 'P':fit, 'Prob':p_kum})\n",
        "  print(df)\n",
        "\n",
        "  r_s = rand()\n",
        "  print(f'selection prob. = {r_s}')\n",
        "\n",
        "  if r_s <= df['Prob'][0]:\n",
        "    par1 = df['Kromosom'][0]\n",
        "  elif r_s <= df['Prob'][1]:\n",
        "    par1 = df['Kromosom'][1]\n",
        "  elif r_s <= df['Prob'][2]:\n",
        "    par1 = df['Kromosom'][2]\n",
        "  elif r_s <= df['Prob'][3]:\n",
        "    par1 = df['Kromosom'][3]\n",
        "  else: par1 = df['Kromosom'][4]\n",
        "  print(f'parent 1 = {par1}')\n",
        "\n",
        "  #Parent 2\n",
        "  print('\\nSeleksi Parent 2')\n",
        "  df2 = df.loc[(df['Kromosom'] != par1)]\n",
        "  df2 = df2.reindex([0,1,2,3,4])\n",
        "  df2 = df2.fillna(0)\n",
        "  df2.sort_values(by=['Prob'], ascending=True, ignore_index=True, inplace=True)\n",
        "  tot2 = sum(df2['Prob'])\n",
        "  p_n = df2['Prob']/tot2\n",
        "  p_k = []\n",
        "  for i in range(0, len(p_n)):\n",
        "    k = sum(p_n[0:i+1])\n",
        "    p_k.append(k)\n",
        "  df2['Prob'] = p_k\n",
        "  print(df2)\n",
        "  r_s = rand()\n",
        "  print(f'selection prob. = {r_s}')\n",
        "\n",
        "  if r_s <= df2['Prob'][0]:\n",
        "    par2 = df2['Kromosom'][0]\n",
        "  elif r_s <= df2['Prob'][1]:\n",
        "    par2 = df2['Kromosom'][1]\n",
        "  elif r_s <= df2['Prob'][2]:\n",
        "    par2 = df2['Kromosom'][2]\n",
        "  elif r_s <= df2['Prob'][3]:\n",
        "    par2 = df2['Kromosom'][3]\n",
        "  else: par2 = df2['Kromosom'][4]\n",
        "  print(f'parent 2 = {par2}')\n",
        "\n",
        "\n",
        "  #CROSSOVER\n",
        "  print('\\nCROSSOVER')\n",
        "  new1 = par1[:m]+par2[m:]\n",
        "  new2 = par2[:m]+par1[m:]\n",
        "  print(f'new_gen1 = {new1}')\n",
        "  print(f'new_gen2 = {new2}')\n",
        "\n",
        "  df.sort_values(by=['P'], ascending=False, ignore_index=True, inplace=True)\n",
        "  for i in range(0, len(pop)):\n",
        "    if pop[i] == df['Kromosom'][4]:\n",
        "      pop[i] = new1\n",
        "    elif pop [i] == df['Kromosom'][3]:\n",
        "      pop[i] = new2\n",
        "    else: pop[i]\n",
        "  print('\\nnew pop')\n",
        "  for i in range(0, len(pop)):\n",
        "    print(f'krom_{i+1} = {pop[i]}')\n",
        "\n",
        "  #MUTATION\n",
        "  print('\\nMUTATION')\n",
        "  n = 64*5*0.05\n",
        "  print(f'jumlah mutasi gen = {n}')\n",
        "  r_m = randint(0,(64*5),int(n))\n",
        "  print(f'lokasi mutasi = {r_m}')\n",
        "  popa = str2int(''.join(pop))\n",
        "  for i in range(0,len(r_m)):\n",
        "    if popa[r_m[i]] == 0:\n",
        "      popa[r_m[i]] = 1\n",
        "    else: popa[r_m[i]] = 0\n",
        "  print('\\nnew pop')\n",
        "  pop = []\n",
        "  for i in range(0, 5):\n",
        "    pops = popa[(i*64):((i+1)*64)]\n",
        "    pop.append(list2str(pops))\n",
        "    print(f'krom_{i+1} = {pop[i]}')\n",
        "\n",
        "  #DECODE\n",
        "  print('\\nDECODE')\n",
        "  obj = []\n",
        "  for i in range(0,len(pop)):\n",
        "    objektif = (bin2float(pop[i][:m])**2)*(bin2float(pop[i][m:])**2) + 1\n",
        "    if objektif != objektif:\n",
        "      objektif = np.inf\n",
        "    else: objektif\n",
        "    obj.append(objektif)\n",
        "\n",
        "  dst = [] \n",
        "  for i in range(0,len(obj)):\n",
        "    dis = np.abs(obj[i] - 1)\n",
        "    dst.append(dis)\n",
        "\n",
        "  df3 = pd. DataFrame(data={'Kromosom':pop, 'Obj':obj, 'Dist':dst})\n",
        "  df3.sort_values(by=['Dist'], ascending=True, ignore_index=True, inplace=True)\n",
        "  opt = df3['Dist'][0]\n",
        "  opt_val = df3['Obj'][0]\n",
        "  print(f'Nilai Optimum = {opt_val}')\n",
        "\n",
        "  f_xy.append(opt_val)\n",
        "\n",
        "  opt_krom = df3['Kromosom'][0]\n",
        "\n",
        "  for i in range(0,len(pop)):\n",
        "    if pop[i] == opt_krom:\n",
        "      print(f'Kromosom Optimum = krom_{i+1}')\n",
        "    else: pop[i]\n",
        "\n",
        "  point = [bin2float(opt_krom[:m]), bin2float(opt_krom[m:])]\n",
        "  print(f'Titik Optimum = {point}')\n",
        "  opt_p.append(point)\n",
        "  xi = point[0]\n",
        "  yi = point[1]\n",
        "  x_i.append(xi)\n",
        "  y_i.append(yi)\n",
        "\n",
        "  if opt_val == 1.0:\n",
        "    print(f'Jumlah Generasi = {j+1}')\n",
        "    break "
      ],
      "metadata": {
        "colab": {
          "base_uri": "https://localhost:8080/"
        },
        "id": "XT7_miGkpzxm",
        "outputId": "64db5651-b39b-4d91-862d-debafb4bb695"
      },
      "execution_count": 8,
      "outputs": [
        {
          "output_type": "stream",
          "name": "stdout",
          "text": [
            "RANDOM INITIAL POINT\n",
            "Titik Awal: \n",
            "[[-1.04566664  0.30175399]\n",
            " [ 2.81369931 -0.87534187]\n",
            " [ 2.2652205  -1.08047315]\n",
            " [-2.14458951 -1.10206387]\n",
            " [ 0.64711527 -1.63935659]]\n",
            "\n",
            "ENCODE\n",
            "Populasi Awal: \n",
            "krom_1 = 1011111110000101110110000110100000111110100110100111111110000000\n",
            "krom_2 = 0100000000110100000100111010011010111111011000000001011001101000\n",
            "krom_3 = 0100000000010000111110010101111110111111100010100100110011110010\n",
            "krom_4 = 1100000000001001010000001111010010111111100011010001000001101110\n",
            "krom_5 = 0011111100100101101010010101100110111111110100011101011001110000\n",
            "\n",
            "--------------------------------------------------\n",
            "Iterasi ke-1\n",
            "--------------------------------------------------\n",
            "\n",
            "FITNESS\n",
            "nilai objektif = [1.0995617717192507, 7.06611689839138, 6.990304726961594, 6.586012054261161, 2.1254085156148053]\n",
            "probability = [0.500699959914201, 0.07791415609729735, 0.07875916094180331, 0.08359391548134344, 0.25903280756535496]\n",
            "\n",
            "SELEKSI\n",
            "Seleksi Parent 1\n",
            "                                            Kromosom         P      Prob\n",
            "0  1011111110000101110110000110100000111110100110...  0.909453  0.500700\n",
            "1  0100000000110100000100111010011010111111011000...  0.141520  0.578614\n",
            "2  0100000000010000111110010101111110111111100010...  0.143055  0.657373\n",
            "3  1100000000001001010000001111010010111111100011...  0.151837  0.740967\n",
            "4  0011111100100101101010010101100110111111110100...  0.470498  1.000000\n",
            "selection prob. = 0.8327903703455862\n",
            "parent 1 = 0011111100100101101010010101100110111111110100011101011001110000\n",
            "\n",
            "Seleksi Parent 2\n",
            "                                            Kromosom         P      Prob\n",
            "0                                                  0  0.000000  0.000000\n",
            "1  1011111110000101110110000110100000111110100110...  0.909453  0.202086\n",
            "2  0100000000110100000100111010011010111111011000...  0.141520  0.435619\n",
            "3  0100000000010000111110010101111110111111100010...  0.143055  0.700940\n",
            "4  1100000000001001010000001111010010111111100011...  0.151837  1.000000\n",
            "selection prob. = 0.8722890227929571\n",
            "parent 2 = 1100000000001001010000001111010010111111100011010001000001101110\n",
            "\n",
            "CROSSOVER\n",
            "new_gen1 = 0011111100100101101010010101100110111111100011010001000001101110\n",
            "new_gen2 = 1100000000001001010000001111010010111111110100011101011001110000\n",
            "\n",
            "new pop\n",
            "krom_1 = 1011111110000101110110000110100000111110100110100111111110000000\n",
            "krom_2 = 0011111100100101101010010101100110111111100011010001000001101110\n",
            "krom_3 = 1100000000001001010000001111010010111111110100011101011001110000\n",
            "krom_4 = 1100000000001001010000001111010010111111100011010001000001101110\n",
            "krom_5 = 0011111100100101101010010101100110111111110100011101011001110000\n",
            "\n",
            "MUTATION\n",
            "jumlah mutasi gen = 16.0\n",
            "lokasi mutasi = [ 86  81  15 165 128 299 200 213 111 255 207 179 274 159 315  16]\n",
            "\n",
            "new pop\n",
            "krom_1 = 1011111110000100010110000110100000111110100110100111111110000000\n",
            "krom_2 = 0011111100100101111010110101100110111111100011000001000001101110\n",
            "krom_3 = 0100000000001001010000001111010110111011110100011100011001110000\n",
            "krom_4 = 1100000010001000010001001111010010111111100011010001000001101111\n",
            "krom_5 = 0011111100100101100010010101100110111111110000011101011001100000\n",
            "\n",
            "DECODE\n",
            "Nilai Optimum = 1.0001884936015732\n",
            "Kromosom Optimum = krom_3\n",
            "Titik Optimum = [2.14458966255188, -0.006401829421520233]\n",
            "\n",
            "--------------------------------------------------\n",
            "Iterasi ke-2\n",
            "--------------------------------------------------\n",
            "\n",
            "FITNESS\n",
            "nilai objektif = [1.097342705713097, 1.5029771323480001, 1.0001884936015732, 23.0247020911305, 1.9588770058219462]\n",
            "probability = [0.29111253777136653, 0.21254496358569472, 0.3193900168904473, 0.013874239006466671, 0.16307824274602478]\n",
            "\n",
            "SELEKSI\n",
            "Seleksi Parent 1\n",
            "                                            Kromosom         P      Prob\n",
            "0  1011111110000100010110000110100000111110100110...  0.911292  0.291113\n",
            "1  0011111100100101111010110101100110111111100011...  0.665346  0.503658\n",
            "2  0100000000001001010000001111010110111011110100...  0.999812  0.823048\n",
            "3  1100000010001000010001001111010010111111100011...  0.043432  0.836922\n",
            "4  0011111100100101100010010101100110111111110000...  0.510497  1.000000\n",
            "selection prob. = 0.5773635654833851\n",
            "parent 1 = 0100000000001001010000001111010110111011110100011100011001110000\n",
            "\n",
            "Seleksi Parent 2\n",
            "                                            Kromosom         P      Prob\n",
            "0                                                  0  0.000000  0.000000\n",
            "1  1011111110000100010110000110100000111110100110...  0.911292  0.110618\n",
            "2  0011111100100101111010110101100110111111100011...  0.665346  0.302000\n",
            "3  1100000010001000010001001111010010111111100011...  0.043432  0.620016\n",
            "4  0011111100100101100010010101100110111111110000...  0.510497  1.000000\n",
            "selection prob. = 0.6838383254816571\n",
            "parent 2 = 0011111100100101100010010101100110111111110000011101011001100000\n",
            "\n",
            "CROSSOVER\n",
            "new_gen1 = 0100000000001001010000001111010110111111110000011101011001100000\n",
            "new_gen2 = 0011111100100101100010010101100110111011110100011100011001110000\n",
            "\n",
            "new pop\n",
            "krom_1 = 1011111110000100010110000110100000111110100110100111111110000000\n",
            "krom_2 = 0011111100100101111010110101100110111111100011000001000001101110\n",
            "krom_3 = 0100000000001001010000001111010110111011110100011100011001110000\n",
            "krom_4 = 0100000000001001010000001111010110111111110000011101011001100000\n",
            "krom_5 = 0011111100100101100010010101100110111011110100011100011001110000\n",
            "\n",
            "MUTATION\n",
            "jumlah mutasi gen = 16.0\n",
            "lokasi mutasi = [187 251  58 165  48 279   1 181 285  27 159 108  17 193 243 148]\n",
            "\n",
            "new pop\n",
            "krom_1 = 1111111110000100000110000111100000111110100110101111111110100000\n",
            "krom_2 = 0011111100100101111010110101100110111111100001000001000001101110\n",
            "krom_3 = 0100000000001001010010001111010010111111110100011100001001100000\n",
            "krom_4 = 0000000000001001010000001111010110111111110000011100011001110000\n",
            "krom_5 = 0011111100100101100010000101110110111011110100011100011001110000\n",
            "\n",
            "DECODE\n",
            "Nilai Optimum = 1.0\n",
            "Kromosom Optimum = krom_4\n",
            "Titik Optimum = [8.498216575851783e-40, -1.5138683319091797]\n",
            "Jumlah Generasi = 2\n"
          ]
        }
      ]
    },
    {
      "cell_type": "code",
      "source": [
        "df5=pd.DataFrame(data={'Generasi':range(1,len(f_xy)+1), '(x,y)':opt_p, 'f(x,y)':f_xy})\n",
        "print(df5)"
      ],
      "metadata": {
        "colab": {
          "base_uri": "https://localhost:8080/"
        },
        "id": "9O8bdPTTYgUL",
        "outputId": "a1d72fa1-7df6-4ec6-babb-27ff7da65265"
      },
      "execution_count": 9,
      "outputs": [
        {
          "output_type": "stream",
          "name": "stdout",
          "text": [
            "   Generasi                                         (x,y)    f(x,y)\n",
            "0         1     [2.14458966255188, -0.006401829421520233]  1.000188\n",
            "1         2  [8.498216575851783e-40, -1.5138683319091797]  1.000000\n"
          ]
        }
      ]
    },
    {
      "cell_type": "code",
      "source": [
        "plt.plot(range(1,len(f_xy)+1), f_xy, '-r')\n",
        "plt.scatter(range(1,len(f_xy)+1), f_xy)\n",
        "plt.xlabel('Iterasi')\n",
        "plt.ylabel('f(x,y)')"
      ],
      "metadata": {
        "colab": {
          "base_uri": "https://localhost:8080/",
          "height": 307
        },
        "id": "djtQaOTUhohT",
        "outputId": "04f96ed0-28df-4104-97b0-c13a93c05e43"
      },
      "execution_count": 10,
      "outputs": [
        {
          "output_type": "execute_result",
          "data": {
            "text/plain": [
              "Text(0, 0.5, 'f(x,y)')"
            ]
          },
          "metadata": {},
          "execution_count": 10
        },
        {
          "output_type": "display_data",
          "data": {
            "text/plain": [
              "<Figure size 432x288 with 1 Axes>"
            ],
            "image/png": "[encoded data removed]"
          },
          "metadata": {
            "needs_background": "light"
          }
        }
      ]
    },
    {
      "cell_type": "code",
      "source": [
        "fig = plt.figure()\n",
        "ax = plt.axes(projection =\"3d\")\n",
        "dim = 1.5\n",
        "ax.set_xlabel('x')\n",
        "ax.set_ylabel('y')\n",
        "ax.set_zlabel('z')\n",
        "\n",
        "ax.set_xlim((-dim,dim-0.05))\n",
        "ax.set_ylim((-dim+0.05,dim))\n",
        "\n",
        "X = np.linspace(-dim, dim, 100)\n",
        "Y = np.linspace(-dim, dim, 100)\n",
        "X, Y = np.meshgrid(X, Y)\n",
        "F = lambdify((x,y),fxy)\n",
        "Z = F(X, Y)\n",
        "ax.plot_surface(X, Y, Z, cmap=cm.coolwarm, alpha=.8, linewidth=0)\n",
        "\n",
        "for i in range(0,len(f_xy)):\n",
        "  X1 = [x_i[i], dim]\n",
        "  Y1 = [y_i[i], -dim]\n",
        "  Z1 = [f_xy[i], f_xy[i]]\n",
        "  ax.plot(X1, Y1, Z1, c='red')\n",
        "\n",
        "ax.scatter3D(x_i, y_i, f_xy, color='red')\n",
        "ax.plot(x_i, y_i, f_xy, c='black')\n",
        "ax.view_init(30, 70)"
      ],
      "metadata": {
        "colab": {
          "base_uri": "https://localhost:8080/",
          "height": 248
        },
        "id": "zEezfizwLik8",
        "outputId": "c6b32ed2-7000-4d6b-91d9-9441c937ae20"
      },
      "execution_count": 11,
      "outputs": [
        {
          "output_type": "display_data",
          "data": {
            "text/plain": [
              "<Figure size 432x288 with 1 Axes>"
            ],
            "image/png": "[encoded data removed]"
          },
          "metadata": {
            "needs_background": "light"
          }
        }
      ]
    }
  ]
}